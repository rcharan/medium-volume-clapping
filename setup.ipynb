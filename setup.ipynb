{
 "cells": [
  {
   "cell_type": "markdown",
   "metadata": {},
   "source": [
    "# Medium Clapping – Setup\n",
    "Automated clapping for medium articles"
   ]
  },
  {
   "cell_type": "markdown",
   "metadata": {},
   "source": [
    "There are four parts to the setup\n",
    "1. Installing the appropriate python libraries. Most software is standard except the Google API and selenium\n",
    "2. Setting up an appropriate config file\n",
    "3. Installing chromedriver, an automatable web browser\n",
    "4. Log into medium"
   ]
  },
  {
   "cell_type": "markdown",
   "metadata": {},
   "source": [
    "To Do: updated information on how to get an API key"
   ]
  },
  {
   "cell_type": "markdown",
   "metadata": {},
   "source": [
    "## Part 1: Python Packages\n",
    "You need to be able to run the following imports. Run conda or pip install at your terminal to install the software. Alterntively, run the following cell"
   ]
  },
  {
   "cell_type": "code",
   "execution_count": null,
   "metadata": {},
   "outputs": [],
   "source": [
    "# Warning: This cell takes a while\n",
    "%conda install more-itertools selenium google-api-python-client pandas numpy"
   ]
  },
  {
   "cell_type": "code",
   "execution_count": 5,
   "metadata": {},
   "outputs": [],
   "source": [
    "# Standard Imports\n",
    "import re\n",
    "import json\n",
    "import sys, os, shutil\n",
    "from   pathlib import Path\n",
    "import time\n",
    "\n",
    "import itertools\n",
    "import more_itertools  # conda install more-itertools\n",
    "\n",
    "import pandas\n",
    "import numpy\n",
    "\n",
    "import selenium"
   ]
  },
  {
   "cell_type": "code",
   "execution_count": 6,
   "metadata": {},
   "outputs": [],
   "source": [
    "# This is optional if you don't intend to get links from a google sheet\n",
    "import googleapiclient # conda install google-api-python-client"
   ]
  },
  {
   "cell_type": "code",
   "execution_count": 7,
   "metadata": {},
   "outputs": [],
   "source": [
    "from utilities import load_config, write_config, profile_path, get_browser"
   ]
  },
  {
   "cell_type": "markdown",
   "metadata": {},
   "source": [
    "## Part 2: Set up a config file"
   ]
  },
  {
   "cell_type": "markdown",
   "metadata": {},
   "source": [
    "This will be a simple json file containing variables\n",
    "- api_key\n",
    "\n",
    "One of:\n",
    "- (a) spreadsheet_id: the id of a public google sheet to scrape for links; or\n",
    "- (b) medium_urls:    the path to a file containing urls (see below)\n",
    "\n",
    "And\n",
    "- chromedriver_location (set in part 3)\n",
    "\n",
    "If you don't want to use a google sheet, you can make a list of urls in a local file. If so:\n",
    "medium_urls should be a string with the relative path (i.e. from the project diretory) or an absolute path to a text file. The text file should be a list of URLs, each on their own line. Alternatively, the file could be a spreadsheet as a csv or xls(x)."
   ]
  },
  {
   "cell_type": "markdown",
   "metadata": {},
   "source": [
    "This notebook will detect if a file exists and if not make a new one.\n",
    "- If you want to delete the file and remake it, run make_new_config() in this notebook.\n",
    "- If you want to edit the file, you can run load_config(), edit the resulting dictionary, and then write_config(new_dict)"
   ]
  },
  {
   "cell_type": "markdown",
   "metadata": {},
   "source": [
    "Note that no checks on the validity of the configuration info are made"
   ]
  },
  {
   "cell_type": "code",
   "execution_count": 3,
   "metadata": {},
   "outputs": [],
   "source": [
    "def get_api_key():\n",
    "    return input('Please enter a Google API key:\\n\\n')"
   ]
  },
  {
   "cell_type": "code",
   "execution_count": 4,
   "metadata": {},
   "outputs": [],
   "source": [
    "def get_url_resource():\n",
    "    spreadsheet    = input('\\n\\nPlease enter either\\n'\n",
    "                       '  (a) the URL of a public Google Sheet to scrape for links; or \\n'\n",
    "                       '  (b) The path to a text, csv, or excel file containing links \\n\\n')\n",
    "\n",
    "    # Check to see if the input is a URL or else assume it is the path to a file\n",
    "    #  If it is a file path, just return the path\n",
    "    if not re.match('http.*', spreadsheet):\n",
    "        print('Assuming this is a file path')\n",
    "        return 'medium_urls', spreadsheet\n",
    "    \n",
    "    # Parse the spreadsheet id from the URL\n",
    "    #  Regex is from the Google API documentation\n",
    "    spreadsheet_re = '/spreadsheets/d/([a-zA-Z0-9-_]+)'\n",
    "    spreadsheet_id = re.search(spreadsheet_re, spreadsheet)\n",
    "    \n",
    "    if not spreadsheet_id:\n",
    "        raise ValueError('''That doesn't appear to be a Google Sheet or file path''')\n",
    "        \n",
    "    return 'spreadsheet_id', spreadsheet_id[1]"
   ]
  },
  {
   "cell_type": "code",
   "execution_count": 5,
   "metadata": {},
   "outputs": [],
   "source": [
    "def make_new_config():\n",
    "    config = {}\n",
    "    config['api_key'] = get_api_key()\n",
    "    \n",
    "    key, val = get_url_resource()\n",
    "    config[key] = val\n",
    "    \n",
    "    write_config(config)\n",
    "    \n",
    "    print('Configuration File Succesfully Built')"
   ]
  },
  {
   "cell_type": "code",
   "execution_count": 6,
   "metadata": {},
   "outputs": [],
   "source": [
    "def yes_no_prompt():\n",
    "    to_delete = input('''Enter y for yes, or n or blank for no:  ''')\n",
    "    return to_delete in ['y', 'Y', 'yes', 'Yes']"
   ]
  },
  {
   "cell_type": "code",
   "execution_count": 7,
   "metadata": {},
   "outputs": [
    {
     "name": "stdout",
     "output_type": "stream",
     "text": [
      "Configuration file is detected. You may proceed to step 3\n"
     ]
    }
   ],
   "source": [
    "try:\n",
    "    load_config()\n",
    "    print('Configuration file is detected. You may proceed to step 3')\n",
    "except utilities.FileNotFound:\n",
    "    print('No config file detected, creating a new one one')\n",
    "    make_new_config()\n",
    "except utilities.CorruptConfiguration:\n",
    "    print('''Corrupted config file detected, please confirm to delete and make a new one.''')\n",
    "    if yes_no_prompt():\n",
    "        print('Okay, deleting the file and proceeding to setup a new one')\n",
    "        make_new_config()\n",
    "    else:\n",
    "        print('Terminating with failure.')"
   ]
  },
  {
   "cell_type": "markdown",
   "metadata": {},
   "source": [
    "## Part 3: Chomedriver\n",
    "This will look for chromedriver, a webbrowser\n",
    "\n",
    "You should start by downloading that here\n",
    "https://chromedriver.chromium.org/\n",
    "\n",
    "By default the browser should be in: /Library/Application Support/Google/chromedriver\n",
    "\n",
    "You could also put in the project directory\n",
    "\n",
    "If the file is found in your downloads folder, you will be prompted to move it to default directory"
   ]
  },
  {
   "cell_type": "code",
   "execution_count": 8,
   "metadata": {},
   "outputs": [],
   "source": [
    "try:\n",
    "    config = load_config()\n",
    "except:\n",
    "    print('Error loading the config file... you need to go back to step 2')"
   ]
  },
  {
   "cell_type": "code",
   "execution_count": 9,
   "metadata": {},
   "outputs": [],
   "source": [
    "chrome    = Path.home() / Path('./Library/Application Support/Google/')\n",
    "here      = Path('.')\n",
    "downloads = Path.home() / Path('./Downloads')\n",
    "\n",
    "default_name = Path('./chromedriver')\n",
    "file_name    = default_name"
   ]
  },
  {
   "cell_type": "code",
   "execution_count": 10,
   "metadata": {},
   "outputs": [
    {
     "name": "stdout",
     "output_type": "stream",
     "text": [
      "Found chrome driver in /Users/rcharan/Library/Application Support/Google\n",
      "Congratulations, you can move to step 4\n"
     ]
    }
   ],
   "source": [
    "chromedriver = None\n",
    "\n",
    "# Look in the default places\n",
    "for path in [chrome, here, downloads]:\n",
    "    if (path/file_name).exists():\n",
    "        display = path if path != here else 'this directory'\n",
    "        print(f'Found chrome driver in {display}')\n",
    "        chromedriver = path/file_name\n",
    "        break\n",
    "        \n",
    "# Prompt the user if chrome driver hasn't been found\n",
    "if not chromedriver:\n",
    "    file_path   = input('What directory is your chromedriver in? Empty input to terminate.\\n'\n",
    "                        'You can download it here: https://chromedriver.chromium.org/ and come back')\n",
    "    if file_path:\n",
    "        file_name_2 = input('What is the filename? Empty to default to chromedriver')\n",
    "        if file_name_2:\n",
    "            file_name = file_name_2\n",
    "        if (file_path/file_name).exists():\n",
    "            chromedriver = file_path/file_name\n",
    "        else:\n",
    "            print('''Sorry can't find the file''')\n",
    "            \n",
    "if chromedriver:\n",
    "    # Prompt the user to move chromedriver to a reasonable location\n",
    "    if chromedriver not in [chrome/file_name, here/file_name]:\n",
    "        print(f'Would you like to move this to {chrome/default_name}?')\n",
    "        move = yes_no_prompt()\n",
    "        if move:\n",
    "            start  = str(chromedriver)\n",
    "            dest   = str(chrome/default_name)\n",
    "            os.rename(source, dest)\n",
    "            \n",
    "    # Update the config file\n",
    "    config['chromedriver_location'] = str(chromedriver)\n",
    "    write_config(config)\n",
    "    \n",
    "    print('Congratulations, you can move to step 4')\n",
    "else:\n",
    "    print('Terminating because you need to download chromedriver')"
   ]
  },
  {
   "cell_type": "markdown",
   "metadata": {},
   "source": [
    "# Part 4: Logging into Medium"
   ]
  },
  {
   "cell_type": "markdown",
   "metadata": {},
   "source": [
    "This part will create a user profile for the web browser chromedriver. After you log into medium, it will remember your credentials in the same way as you may be used to in a standard web browser.\n",
    "\n",
    "If you don't want to do this, you will have to log into medium every time.\n",
    "\n",
    "Re-run the "
   ]
  },
  {
   "cell_type": "code",
   "execution_count": 11,
   "metadata": {},
   "outputs": [],
   "source": [
    "config = load_config(require_chrome = True)"
   ]
  },
  {
   "cell_type": "code",
   "execution_count": 13,
   "metadata": {},
   "outputs": [
    {
     "name": "stdout",
     "output_type": "stream",
     "text": [
      "Do you want to create a user profile in chromedriver so that you don't have to log in all the time?\n",
      "\n",
      "If you decline, the configuration file will be updated to not use user profiles.\n",
      " -  You can change this later by re-running this cell to enable or disable the profile\n",
      " -  On disable, you will have the choice to delete the existing profile\n",
      "\n",
      "Enter y for yes, or n or blank for no:  y\n",
      "\n",
      "Configuration profile is updated to enable a user profile\n"
     ]
    }
   ],
   "source": [
    "print('''Do you want to create a user profile in chromedriver so that you don't have to log in all the time?\\n\\n'''\n",
    "      '''If you decline, the configuration file will be updated to not use user profiles.\\n'''\n",
    "      ''' -  You can change this later by re-running this cell to enable or disable the profile\\n'''\n",
    "      ''' -  On disable, you will have the choice to delete an existing profile if it exists\\n''')\n",
    "\n",
    "have_profile = yes_no_prompt()\n",
    "\n",
    "# Update the configuration file\n",
    "print(f'\\nConfiguration profile is updated to {\"enable\" if have_profile else \"disable\"} a user profile')\n",
    "config['have_profile'] = have_profile\n",
    "write_config(config)\n",
    "\n",
    "# If the profile was declined, prompt to delete existing profiles\n",
    "if not have_profile and profile_path.exists():\n",
    "    print('\\n\\nDo you want to delete the existing profile\\n\\n')\n",
    "    remove = yes_no_prompt()\n",
    "                    \n",
    "    if remove:\n",
    "        shutil.rmtree('./chromedriver-profile')"
   ]
  },
  {
   "cell_type": "markdown",
   "metadata": {},
   "source": [
    "_*Please log into medium!*_ Then come back here and close the browser from the notebook"
   ]
  },
  {
   "cell_type": "code",
   "execution_count": 14,
   "metadata": {},
   "outputs": [],
   "source": [
    "browser = get_browser()\n",
    "if browser:\n",
    "    browser.get('https://medium.com/')"
   ]
  },
  {
   "cell_type": "code",
   "execution_count": 15,
   "metadata": {},
   "outputs": [
    {
     "name": "stdout",
     "output_type": "stream",
     "text": [
      "Congratulations you are all set up!\n"
     ]
    }
   ],
   "source": [
    "if browser:\n",
    "    browser.close()\n",
    "    print('Congratulations you are all set up!')"
   ]
  },
  {
   "cell_type": "markdown",
   "metadata": {},
   "source": [
    "Please note that the best way to close chromedriver is by\n",
    "- Using browser.close(); or \n",
    "- Quitting the application (*not* just closing the window)\n",
    "\n",
    "If you close the window without quitting the application, it will lock the user profile and lead to later errors"
   ]
  }
 ],
 "metadata": {
  "kernelspec": {
   "display_name": "Python [conda env:root]",
   "language": "python",
   "name": "conda-root-py"
  },
  "language_info": {
   "codemirror_mode": {
    "name": "ipython",
    "version": 3
   },
   "file_extension": ".py",
   "mimetype": "text/x-python",
   "name": "python",
   "nbconvert_exporter": "python",
   "pygments_lexer": "ipython3",
   "version": "3.7.3"
  }
 },
 "nbformat": 4,
 "nbformat_minor": 2
}
